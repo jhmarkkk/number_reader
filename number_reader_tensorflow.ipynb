{
 "cells": [
  {
   "cell_type": "code",
   "execution_count": 1,
   "id": "848ed62a",
   "metadata": {},
   "outputs": [
    {
     "name": "stdout",
     "output_type": "stream",
     "text": [
      "TensorFlow version: 2.7.0\n"
     ]
    }
   ],
   "source": [
    "import matplotlib.pyplot as plt\n",
    "import numpy as np\n",
    "import os\n",
    "import tensorflow as tf\n",
    "import tensorflow_datasets as tfds\n",
    "\n",
    "print(\"TensorFlow version:\", tf.__version__)"
   ]
  },
  {
   "cell_type": "code",
   "execution_count": 2,
   "id": "d0f512e3",
   "metadata": {
    "scrolled": true
   },
   "outputs": [],
   "source": [
    "mnist = tf.keras.datasets.mnist\n",
    "\n",
    "(x_train, y_train), (x_test, y_test) = mnist.load_data()\n",
    "\n",
    "x_train, x_test = x_train / 255.0, x_test / 255.0"
   ]
  },
  {
   "cell_type": "code",
   "execution_count": 3,
   "id": "a8e14821",
   "metadata": {},
   "outputs": [
    {
     "name": "stdout",
     "output_type": "stream",
     "text": [
      "WARNING:tensorflow:From C:\\Users\\junha\\Documents\\python_things\\python_2021\\jik\\lib\\site-packages\\tensorflow_datasets\\core\\dataset_builder.py:622: get_single_element (from tensorflow.python.data.experimental.ops.get_single_element) is deprecated and will be removed in a future version.\n",
      "Instructions for updating:\n",
      "Use `tf.data.Dataset.get_single_element()`.\n"
     ]
    },
    {
     "name": "stderr",
     "output_type": "stream",
     "text": [
      "WARNING:tensorflow:From C:\\Users\\junha\\Documents\\python_things\\python_2021\\jik\\lib\\site-packages\\tensorflow_datasets\\core\\dataset_builder.py:622: get_single_element (from tensorflow.python.data.experimental.ops.get_single_element) is deprecated and will be removed in a future version.\n",
      "Instructions for updating:\n",
      "Use `tf.data.Dataset.get_single_element()`.\n"
     ]
    }
   ],
   "source": [
    "(x_train_scale, y_train_scale), (x_test_scale, y_test_scale) = tfds.as_numpy(tfds.load(\n",
    "    'mnist_corrupted/scale',\n",
    "    split=['train', 'test'],\n",
    "    batch_size=-1,\n",
    "    as_supervised=True,\n",
    "))\n",
    "\n",
    "x_train_scale, x_test_scale = x_train_scale / 255.0, x_test_scale / 255.0\n",
    "x_train_scale = np.reshape(x_train_scale, (60000, 28, 28))\n",
    "x_test_scale = np.reshape(x_test_scale, (10000, 28, 28))"
   ]
  },
  {
   "cell_type": "code",
   "execution_count": 4,
   "id": "412828a0",
   "metadata": {},
   "outputs": [],
   "source": [
    "(x_train_shear, y_train_shear), (x_test_shear, y_test_shear) = tfds.as_numpy(tfds.load(\n",
    "    'mnist_corrupted/shear',\n",
    "    split=['train', 'test'],\n",
    "    batch_size=-1,\n",
    "    as_supervised=True,\n",
    "))\n",
    "\n",
    "x_train_shear, x_test_shear = x_train_shear / 255.0, x_test_shear / 255.0\n",
    "x_train_shear = np.reshape(x_train_shear, (60000, 28, 28))\n",
    "x_test_shear = np.reshape(x_test_shear, (10000, 28, 28))"
   ]
  },
  {
   "cell_type": "code",
   "execution_count": 5,
   "id": "52f15c02",
   "metadata": {},
   "outputs": [],
   "source": [
    "(x_train_translate, y_train_translate), (x_test_translate, y_test_translate) = tfds.as_numpy(tfds.load(\n",
    "    'mnist_corrupted/translate',\n",
    "    split=['train', 'test'],\n",
    "    batch_size=-1,\n",
    "    as_supervised=True,\n",
    "))\n",
    "\n",
    "x_train_translate, x_test_translate = x_train_translate / 255.0, x_test_translate / 255.0\n",
    "x_train_translate = np.reshape(x_train_translate, (60000, 28, 28))\n",
    "x_test_translate = np.reshape(x_test_translate, (10000, 28, 28))"
   ]
  },
  {
   "cell_type": "code",
   "execution_count": 6,
   "id": "abb000fe",
   "metadata": {},
   "outputs": [],
   "source": [
    "(x_train_motion_blur, y_train_motion_blur), (x_test_motion_blur, y_test_motion_blur) = tfds.as_numpy(tfds.load(\n",
    "    'mnist_corrupted/motion_blur',\n",
    "    split=['train', 'test'],\n",
    "    batch_size=-1,\n",
    "    as_supervised=True,\n",
    "))\n",
    "\n",
    "x_train_motion_blur, x_test_motion_blur = x_train_motion_blur / 255.0, x_test_motion_blur / 255.0\n",
    "x_train_motion_blur = np.reshape(x_train_motion_blur, (60000, 28, 28))\n",
    "x_test_motion_blur = np.reshape(x_test_motion_blur, (10000, 28, 28))"
   ]
  },
  {
   "cell_type": "code",
   "execution_count": 7,
   "id": "dc4f739c",
   "metadata": {},
   "outputs": [],
   "source": [
    "(x_train_glass_blur, y_train_glass_blur), (x_test_glass_blur, y_test_glass_blur) = tfds.as_numpy(tfds.load(\n",
    "    'mnist_corrupted/glass_blur',\n",
    "    split=['train', 'test'],\n",
    "    batch_size=-1,\n",
    "    as_supervised=True,\n",
    "))\n",
    "\n",
    "x_train_glass_blur, x_test_glass_blur = x_train_glass_blur / 255.0, x_test_glass_blur / 255.0\n",
    "x_train_glass_blur = np.reshape(x_train_glass_blur, (60000, 28, 28))\n",
    "x_test_glass_blur = np.reshape(x_test_glass_blur, (10000, 28, 28))"
   ]
  },
  {
   "cell_type": "code",
   "execution_count": 8,
   "id": "5a9ec957",
   "metadata": {},
   "outputs": [],
   "source": [
    "(x_train_rotate, y_train_rotate), (x_test_rotate, y_test_rotate) = tfds.as_numpy(tfds.load(\n",
    "    'mnist_corrupted/rotate',\n",
    "    split=['train', 'test'],\n",
    "    batch_size=-1,\n",
    "    as_supervised=True,\n",
    "))\n",
    "\n",
    "x_train_rotate, x_test_rotate = x_train_rotate / 255.0, x_test_rotate / 255.0\n",
    "x_train_rotate = np.reshape(x_train_rotate, (60000, 28, 28))\n",
    "x_test_rotate = np.reshape(x_test_rotate, (10000, 28, 28))"
   ]
  },
  {
   "cell_type": "code",
   "execution_count": 9,
   "id": "2c1f64ed",
   "metadata": {},
   "outputs": [],
   "source": [
    "model = tf.keras.models.Sequential([\n",
    "  tf.keras.layers.Flatten(input_shape=(28, 28)),\n",
    "  tf.keras.layers.Dense(128, activation='relu'),\n",
    "  tf.keras.layers.Dropout(0.2),\n",
    "  tf.keras.layers.Dense(10)\n",
    "])"
   ]
  },
  {
   "cell_type": "code",
   "execution_count": 10,
   "id": "d4ad631d",
   "metadata": {},
   "outputs": [
    {
     "data": {
      "text/plain": [
       "array([[-0.9982596 , -0.20719044, -0.62421066, -0.167717  ,  0.23234203,\n",
       "         0.27697563, -1.1086568 ,  0.6159543 , -0.2021673 , -0.9385799 ]],\n",
       "      dtype=float32)"
      ]
     },
     "execution_count": 10,
     "metadata": {},
     "output_type": "execute_result"
    }
   ],
   "source": [
    "predictions = model(x_train[:1]).numpy()\n",
    "predictions"
   ]
  },
  {
   "cell_type": "code",
   "execution_count": 11,
   "id": "eede5ce8",
   "metadata": {},
   "outputs": [
    {
     "data": {
      "text/plain": [
       "array([[0.0431881 , 0.0952623 , 0.06277857, 0.09909783, 0.14784531,\n",
       "        0.15459366, 0.03867401, 0.21697427, 0.09574202, 0.04584401]],\n",
       "      dtype=float32)"
      ]
     },
     "execution_count": 11,
     "metadata": {},
     "output_type": "execute_result"
    }
   ],
   "source": [
    "tf.nn.softmax(predictions).numpy()"
   ]
  },
  {
   "cell_type": "code",
   "execution_count": 12,
   "id": "7e34e066",
   "metadata": {},
   "outputs": [],
   "source": [
    "loss_fn = tf.keras.losses.SparseCategoricalCrossentropy(from_logits=True)"
   ]
  },
  {
   "cell_type": "code",
   "execution_count": 13,
   "id": "b4701757",
   "metadata": {},
   "outputs": [
    {
     "data": {
      "text/plain": [
       "1.8669552"
      ]
     },
     "execution_count": 13,
     "metadata": {},
     "output_type": "execute_result"
    }
   ],
   "source": [
    "loss_fn(y_train[:1], predictions).numpy()"
   ]
  },
  {
   "cell_type": "code",
   "execution_count": 14,
   "id": "c2c89030",
   "metadata": {},
   "outputs": [],
   "source": [
    "model.compile(optimizer='adam',\n",
    "              loss=loss_fn,\n",
    "              metrics=['accuracy'])"
   ]
  },
  {
   "cell_type": "code",
   "execution_count": 15,
   "id": "92cf2424",
   "metadata": {},
   "outputs": [
    {
     "name": "stdout",
     "output_type": "stream",
     "text": [
      "Epoch 1/5\n",
      "1875/1875 [==============================] - 2s 761us/step - loss: 0.2997 - accuracy: 0.9140\n",
      "Epoch 2/5\n",
      "1875/1875 [==============================] - 1s 755us/step - loss: 0.1455 - accuracy: 0.9574\n",
      "Epoch 3/5\n",
      "1875/1875 [==============================] - 1s 757us/step - loss: 0.1106 - accuracy: 0.9670\n",
      "Epoch 4/5\n",
      "1875/1875 [==============================] - 1s 755us/step - loss: 0.0899 - accuracy: 0.9723\n",
      "Epoch 5/5\n",
      "1875/1875 [==============================] - 1s 754us/step - loss: 0.0780 - accuracy: 0.9755\n"
     ]
    },
    {
     "data": {
      "text/plain": [
       "<keras.callbacks.History at 0x12ef5a35580>"
      ]
     },
     "execution_count": 15,
     "metadata": {},
     "output_type": "execute_result"
    }
   ],
   "source": [
    "model.fit(x_train, y_train, epochs=5)\n",
    "#This is the part where it trains the model. x_train is the training images in numpy array, y_train is the answers"
   ]
  },
  {
   "cell_type": "code",
   "execution_count": 16,
   "id": "d189268b",
   "metadata": {},
   "outputs": [
    {
     "name": "stdout",
     "output_type": "stream",
     "text": [
      "313/313 - 0s - loss: 0.0717 - accuracy: 0.9778 - 221ms/epoch - 707us/step\n"
     ]
    },
    {
     "data": {
      "text/plain": [
       "[0.07169859111309052, 0.9778000116348267]"
      ]
     },
     "execution_count": 16,
     "metadata": {},
     "output_type": "execute_result"
    }
   ],
   "source": [
    "model.evaluate(x_test,  y_test, verbose=2)\n",
    "#Validation test, on test set"
   ]
  },
  {
   "cell_type": "code",
   "execution_count": 17,
   "id": "873fce42",
   "metadata": {},
   "outputs": [
    {
     "name": "stdout",
     "output_type": "stream",
     "text": [
      "313/313 - 0s - loss: 1.5157 - accuracy: 0.5887 - 267ms/epoch - 854us/step\n"
     ]
    },
    {
     "data": {
      "text/plain": [
       "[1.515749454498291, 0.588699996471405]"
      ]
     },
     "execution_count": 17,
     "metadata": {},
     "output_type": "execute_result"
    }
   ],
   "source": [
    "model.evaluate(x_test_scale,  y_test_scale, verbose=2)\n",
    "#Evaluate on scale mnist dataset before training"
   ]
  },
  {
   "cell_type": "code",
   "execution_count": 18,
   "id": "70a915eb",
   "metadata": {},
   "outputs": [
    {
     "name": "stdout",
     "output_type": "stream",
     "text": [
      "Epoch 1/10\n",
      "1875/1875 [==============================] - 2s 988us/step - loss: 0.1809 - accuracy: 0.9462\n",
      "Epoch 2/10\n",
      "1875/1875 [==============================] - 2s 987us/step - loss: 0.1136 - accuracy: 0.9664\n",
      "Epoch 3/10\n",
      "1875/1875 [==============================] - 2s 1ms/step - loss: 0.0928 - accuracy: 0.9717\n",
      "Epoch 4/10\n",
      "1875/1875 [==============================] - 2s 987us/step - loss: 0.0818 - accuracy: 0.9739\n",
      "Epoch 5/10\n",
      "1875/1875 [==============================] - 2s 978us/step - loss: 0.0707 - accuracy: 0.9774\n",
      "Epoch 6/10\n",
      "1875/1875 [==============================] - 2s 971us/step - loss: 0.0637 - accuracy: 0.9802\n",
      "Epoch 7/10\n",
      "1875/1875 [==============================] - 2s 985us/step - loss: 0.0589 - accuracy: 0.9811\n",
      "Epoch 8/10\n",
      "1875/1875 [==============================] - 2s 974us/step - loss: 0.0546 - accuracy: 0.9824\n",
      "Epoch 9/10\n",
      "1875/1875 [==============================] - 2s 988us/step - loss: 0.0515 - accuracy: 0.9832\n",
      "Epoch 10/10\n",
      "1875/1875 [==============================] - 2s 980us/step - loss: 0.0482 - accuracy: 0.9842\n"
     ]
    },
    {
     "data": {
      "text/plain": [
       "<keras.callbacks.History at 0x12ef6d83520>"
      ]
     },
     "execution_count": 18,
     "metadata": {},
     "output_type": "execute_result"
    }
   ],
   "source": [
    "model.fit(x_train_scale, y_train_scale, epochs=10)\n",
    "#Train using scale mnist dataset"
   ]
  },
  {
   "cell_type": "code",
   "execution_count": 19,
   "id": "016f8f0b",
   "metadata": {},
   "outputs": [
    {
     "name": "stdout",
     "output_type": "stream",
     "text": [
      "313/313 - 0s - loss: 0.0542 - accuracy: 0.9835 - 214ms/epoch - 684us/step\n"
     ]
    },
    {
     "data": {
      "text/plain": [
       "[0.054194431751966476, 0.9835000038146973]"
      ]
     },
     "execution_count": 19,
     "metadata": {},
     "output_type": "execute_result"
    }
   ],
   "source": [
    "model.evaluate(x_test_scale,  y_test_scale, verbose=2)\n",
    "#Evaluate on scale mnist dataset after training"
   ]
  },
  {
   "cell_type": "code",
   "execution_count": 20,
   "id": "a5b6bfa9",
   "metadata": {},
   "outputs": [
    {
     "name": "stdout",
     "output_type": "stream",
     "text": [
      "313/313 - 0s - loss: 4.5646 - accuracy: 0.5763 - 215ms/epoch - 688us/step\n"
     ]
    },
    {
     "data": {
      "text/plain": [
       "[4.564550876617432, 0.5763000249862671]"
      ]
     },
     "execution_count": 20,
     "metadata": {},
     "output_type": "execute_result"
    }
   ],
   "source": [
    "model.evaluate(x_test_shear,  y_test_shear, verbose=2)\n",
    "#Evaluate on shear mnist dataset before training"
   ]
  },
  {
   "cell_type": "code",
   "execution_count": 21,
   "id": "02dfb633",
   "metadata": {},
   "outputs": [
    {
     "name": "stdout",
     "output_type": "stream",
     "text": [
      "Epoch 1/10\n",
      "1875/1875 [==============================] - 2s 975us/step - loss: 0.2790 - accuracy: 0.9287\n",
      "Epoch 2/10\n",
      "1875/1875 [==============================] - 2s 974us/step - loss: 0.1478 - accuracy: 0.9556\n",
      "Epoch 3/10\n",
      "1875/1875 [==============================] - 2s 977us/step - loss: 0.1195 - accuracy: 0.9640\n",
      "Epoch 4/10\n",
      "1875/1875 [==============================] - 2s 975us/step - loss: 0.1066 - accuracy: 0.9679\n",
      "Epoch 5/10\n",
      "1875/1875 [==============================] - 2s 990us/step - loss: 0.0903 - accuracy: 0.9710\n",
      "Epoch 6/10\n",
      "1875/1875 [==============================] - 2s 1ms/step - loss: 0.0836 - accuracy: 0.9736\n",
      "Epoch 7/10\n",
      "1875/1875 [==============================] - 2s 999us/step - loss: 0.0760 - accuracy: 0.9754\n",
      "Epoch 8/10\n",
      "1875/1875 [==============================] - 2s 997us/step - loss: 0.0705 - accuracy: 0.9769\n",
      "Epoch 9/10\n",
      "1875/1875 [==============================] - 2s 989us/step - loss: 0.0682 - accuracy: 0.9774\n",
      "Epoch 10/10\n",
      "1875/1875 [==============================] - 2s 983us/step - loss: 0.0605 - accuracy: 0.9800\n"
     ]
    },
    {
     "data": {
      "text/plain": [
       "<keras.callbacks.History at 0x12ef6e43eb0>"
      ]
     },
     "execution_count": 21,
     "metadata": {},
     "output_type": "execute_result"
    }
   ],
   "source": [
    "model.fit(x_train_shear, y_train_shear, epochs=10)\n",
    "#Train using shear mnist dataset"
   ]
  },
  {
   "cell_type": "code",
   "execution_count": 22,
   "id": "a573f2ff",
   "metadata": {},
   "outputs": [
    {
     "name": "stdout",
     "output_type": "stream",
     "text": [
      "313/313 - 0s - loss: 0.0868 - accuracy: 0.9753 - 211ms/epoch - 675us/step\n"
     ]
    },
    {
     "data": {
      "text/plain": [
       "[0.08684422075748444, 0.9753000140190125]"
      ]
     },
     "execution_count": 22,
     "metadata": {},
     "output_type": "execute_result"
    }
   ],
   "source": [
    "model.evaluate(x_test_shear,  y_test_shear, verbose=2)\n",
    "#Evaluate on shear mnist dataset after training"
   ]
  },
  {
   "cell_type": "code",
   "execution_count": 23,
   "id": "1cdb9697",
   "metadata": {},
   "outputs": [
    {
     "name": "stdout",
     "output_type": "stream",
     "text": [
      "313/313 - 0s - loss: 6.5416 - accuracy: 0.3795 - 214ms/epoch - 684us/step\n"
     ]
    },
    {
     "data": {
      "text/plain": [
       "[6.5416259765625, 0.37950000166893005]"
      ]
     },
     "execution_count": 23,
     "metadata": {},
     "output_type": "execute_result"
    }
   ],
   "source": [
    "model.evaluate(x_test_translate,  y_test_translate, verbose=2)\n",
    "#Evaluate on translate mnist dataset before training"
   ]
  },
  {
   "cell_type": "code",
   "execution_count": 24,
   "id": "dc60a948",
   "metadata": {},
   "outputs": [
    {
     "name": "stdout",
     "output_type": "stream",
     "text": [
      "Epoch 1/10\n",
      "1875/1875 [==============================] - 2s 992us/step - loss: 0.6599 - accuracy: 0.8180\n",
      "Epoch 2/10\n",
      "1875/1875 [==============================] - 2s 990us/step - loss: 0.3432 - accuracy: 0.8965\n",
      "Epoch 3/10\n",
      "1875/1875 [==============================] - 2s 982us/step - loss: 0.2702 - accuracy: 0.9171\n",
      "Epoch 4/10\n",
      "1875/1875 [==============================] - 2s 975us/step - loss: 0.2256 - accuracy: 0.9305\n",
      "Epoch 5/10\n",
      "1875/1875 [==============================] - 2s 973us/step - loss: 0.1934 - accuracy: 0.9393\n",
      "Epoch 6/10\n",
      "1875/1875 [==============================] - 2s 985us/step - loss: 0.1769 - accuracy: 0.9438\n",
      "Epoch 7/10\n",
      "1875/1875 [==============================] - 2s 982us/step - loss: 0.1604 - accuracy: 0.9482\n",
      "Epoch 8/10\n",
      "1875/1875 [==============================] - 2s 982us/step - loss: 0.1462 - accuracy: 0.9526\n",
      "Epoch 9/10\n",
      "1875/1875 [==============================] - 2s 978us/step - loss: 0.1337 - accuracy: 0.9570\n",
      "Epoch 10/10\n",
      "1875/1875 [==============================] - 2s 971us/step - loss: 0.1274 - accuracy: 0.9593\n"
     ]
    },
    {
     "data": {
      "text/plain": [
       "<keras.callbacks.History at 0x12ef6e73f10>"
      ]
     },
     "execution_count": 24,
     "metadata": {},
     "output_type": "execute_result"
    }
   ],
   "source": [
    "model.fit(x_train_translate, y_train_translate, epochs=10)\n",
    "#Train using translate mnist dataset"
   ]
  },
  {
   "cell_type": "code",
   "execution_count": 25,
   "id": "6646b0bb",
   "metadata": {},
   "outputs": [
    {
     "name": "stdout",
     "output_type": "stream",
     "text": [
      "313/313 - 0s - loss: 0.1555 - accuracy: 0.9551 - 212ms/epoch - 679us/step\n"
     ]
    },
    {
     "data": {
      "text/plain": [
       "[0.15545380115509033, 0.9550999999046326]"
      ]
     },
     "execution_count": 25,
     "metadata": {},
     "output_type": "execute_result"
    }
   ],
   "source": [
    "model.evaluate(x_test_translate,  y_test_translate, verbose=2)\n",
    "#Evaluate on translate mnist dataset after training"
   ]
  },
  {
   "cell_type": "code",
   "execution_count": 26,
   "id": "472e6c14",
   "metadata": {},
   "outputs": [
    {
     "name": "stdout",
     "output_type": "stream",
     "text": [
      "313/313 - 0s - loss: 1.1966 - accuracy: 0.5819 - 211ms/epoch - 674us/step\n"
     ]
    },
    {
     "data": {
      "text/plain": [
       "[1.1966170072555542, 0.5819000005722046]"
      ]
     },
     "execution_count": 26,
     "metadata": {},
     "output_type": "execute_result"
    }
   ],
   "source": [
    "model.evaluate(x_test_motion_blur,  y_test_motion_blur, verbose=2)\n",
    "#Evaluate on motion blur mnist dataset before training"
   ]
  },
  {
   "cell_type": "code",
   "execution_count": 27,
   "id": "4e1df91d",
   "metadata": {},
   "outputs": [
    {
     "name": "stdout",
     "output_type": "stream",
     "text": [
      "Epoch 1/10\n",
      "1875/1875 [==============================] - 2s 985us/step - loss: 0.2647 - accuracy: 0.9207\n",
      "Epoch 2/10\n",
      "1875/1875 [==============================] - 2s 967us/step - loss: 0.1671 - accuracy: 0.9495\n",
      "Epoch 3/10\n",
      "1875/1875 [==============================] - 2s 993us/step - loss: 0.1414 - accuracy: 0.9573\n",
      "Epoch 4/10\n",
      "1875/1875 [==============================] - 2s 984us/step - loss: 0.1226 - accuracy: 0.9612\n",
      "Epoch 5/10\n",
      "1875/1875 [==============================] - 2s 970us/step - loss: 0.1127 - accuracy: 0.9649\n",
      "Epoch 6/10\n",
      "1875/1875 [==============================] - 2s 976us/step - loss: 0.1047 - accuracy: 0.9677\n",
      "Epoch 7/10\n",
      "1875/1875 [==============================] - 2s 979us/step - loss: 0.0975 - accuracy: 0.9690\n",
      "Epoch 8/10\n",
      "1875/1875 [==============================] - 2s 962us/step - loss: 0.0899 - accuracy: 0.9716\n",
      "Epoch 9/10\n",
      "1875/1875 [==============================] - 2s 967us/step - loss: 0.0870 - accuracy: 0.9716\n",
      "Epoch 10/10\n",
      "1875/1875 [==============================] - 2s 999us/step - loss: 0.0819 - accuracy: 0.9739\n"
     ]
    },
    {
     "data": {
      "text/plain": [
       "<keras.callbacks.History at 0x12ef6e213a0>"
      ]
     },
     "execution_count": 27,
     "metadata": {},
     "output_type": "execute_result"
    }
   ],
   "source": [
    "model.fit(x_train_motion_blur, y_train_motion_blur, epochs=10)\n",
    "#Train using motion blur mnist dataset"
   ]
  },
  {
   "cell_type": "code",
   "execution_count": 28,
   "id": "8a1c32c0",
   "metadata": {},
   "outputs": [
    {
     "name": "stdout",
     "output_type": "stream",
     "text": [
      "313/313 - 0s - loss: 0.0738 - accuracy: 0.9788 - 216ms/epoch - 691us/step\n"
     ]
    },
    {
     "data": {
      "text/plain": [
       "[0.073845274746418, 0.9787999987602234]"
      ]
     },
     "execution_count": 28,
     "metadata": {},
     "output_type": "execute_result"
    }
   ],
   "source": [
    "model.evaluate(x_test_motion_blur,  y_test_motion_blur, verbose=2)\n",
    "#Evaluate on motion blur mnist dataset after training"
   ]
  },
  {
   "cell_type": "code",
   "execution_count": 29,
   "id": "ebf3cf21",
   "metadata": {},
   "outputs": [
    {
     "name": "stdout",
     "output_type": "stream",
     "text": [
      "313/313 - 0s - loss: 0.2884 - accuracy: 0.9083 - 212ms/epoch - 678us/step\n"
     ]
    },
    {
     "data": {
      "text/plain": [
       "[0.2883748412132263, 0.90829998254776]"
      ]
     },
     "execution_count": 29,
     "metadata": {},
     "output_type": "execute_result"
    }
   ],
   "source": [
    "model.evaluate(x_test_glass_blur,  y_test_glass_blur, verbose=2)\n",
    "#Evaluate on glass blur mnist dataset before training"
   ]
  },
  {
   "cell_type": "code",
   "execution_count": 30,
   "id": "1d6e5f38",
   "metadata": {},
   "outputs": [
    {
     "name": "stdout",
     "output_type": "stream",
     "text": [
      "Epoch 1/10\n",
      "1875/1875 [==============================] - 2s 997us/step - loss: 0.1883 - accuracy: 0.9427\n",
      "Epoch 2/10\n",
      "1875/1875 [==============================] - 2s 987us/step - loss: 0.1324 - accuracy: 0.9587\n",
      "Epoch 3/10\n",
      "1875/1875 [==============================] - 2s 981us/step - loss: 0.1138 - accuracy: 0.9638\n",
      "Epoch 4/10\n",
      "1875/1875 [==============================] - 2s 997us/step - loss: 0.1020 - accuracy: 0.9676\n",
      "Epoch 5/10\n",
      "1875/1875 [==============================] - 2s 994us/step - loss: 0.0916 - accuracy: 0.9700\n",
      "Epoch 6/10\n",
      "1875/1875 [==============================] - 2s 986us/step - loss: 0.0858 - accuracy: 0.9721\n",
      "Epoch 7/10\n",
      "1875/1875 [==============================] - 2s 982us/step - loss: 0.0789 - accuracy: 0.9739\n",
      "Epoch 8/10\n",
      "1875/1875 [==============================] - 2s 985us/step - loss: 0.0730 - accuracy: 0.9764\n",
      "Epoch 9/10\n",
      "1875/1875 [==============================] - 2s 994us/step - loss: 0.0674 - accuracy: 0.9769\n",
      "Epoch 10/10\n",
      "1875/1875 [==============================] - 2s 976us/step - loss: 0.0640 - accuracy: 0.9784\n"
     ]
    },
    {
     "data": {
      "text/plain": [
       "<keras.callbacks.History at 0x12ef6ec5430>"
      ]
     },
     "execution_count": 30,
     "metadata": {},
     "output_type": "execute_result"
    }
   ],
   "source": [
    "model.fit(x_train_glass_blur, y_train_glass_blur, epochs=10)\n",
    "#Train using glass blur mnist dataset"
   ]
  },
  {
   "cell_type": "code",
   "execution_count": 31,
   "id": "39084f23",
   "metadata": {},
   "outputs": [
    {
     "name": "stdout",
     "output_type": "stream",
     "text": [
      "313/313 - 0s - loss: 0.0973 - accuracy: 0.9722 - 213ms/epoch - 681us/step\n"
     ]
    },
    {
     "data": {
      "text/plain": [
       "[0.09725041687488556, 0.9721999764442444]"
      ]
     },
     "execution_count": 31,
     "metadata": {},
     "output_type": "execute_result"
    }
   ],
   "source": [
    "model.evaluate(x_test_glass_blur,  y_test_glass_blur, verbose=2)\n",
    "#Evaluate on glass blur mnist dataset after training"
   ]
  },
  {
   "cell_type": "code",
   "execution_count": 32,
   "id": "244a1c30",
   "metadata": {},
   "outputs": [
    {
     "name": "stdout",
     "output_type": "stream",
     "text": [
      "313/313 - 0s - loss: 1.4034 - accuracy: 0.8336 - 211ms/epoch - 675us/step\n"
     ]
    },
    {
     "data": {
      "text/plain": [
       "[1.4034234285354614, 0.8335999846458435]"
      ]
     },
     "execution_count": 32,
     "metadata": {},
     "output_type": "execute_result"
    }
   ],
   "source": [
    "model.evaluate(x_test_rotate,  y_test_rotate, verbose=2)\n",
    "#Evaluate on rotate mnist dataset before training"
   ]
  },
  {
   "cell_type": "code",
   "execution_count": 33,
   "id": "88e9f42e",
   "metadata": {},
   "outputs": [
    {
     "name": "stdout",
     "output_type": "stream",
     "text": [
      "Epoch 1/10\n",
      "1875/1875 [==============================] - 2s 996us/step - loss: 0.3083 - accuracy: 0.9215\n",
      "Epoch 2/10\n",
      "1875/1875 [==============================] - 2s 1ms/step - loss: 0.1867 - accuracy: 0.9464\n",
      "Epoch 3/10\n",
      "1875/1875 [==============================] - 2s 990us/step - loss: 0.1504 - accuracy: 0.9546\n",
      "Epoch 4/10\n",
      "1875/1875 [==============================] - 2s 985us/step - loss: 0.1310 - accuracy: 0.9596\n",
      "Epoch 5/10\n",
      "1875/1875 [==============================] - 2s 985us/step - loss: 0.1173 - accuracy: 0.9630\n",
      "Epoch 6/10\n",
      "1875/1875 [==============================] - 2s 978us/step - loss: 0.1085 - accuracy: 0.9660\n",
      "Epoch 7/10\n",
      "1875/1875 [==============================] - 2s 981us/step - loss: 0.0986 - accuracy: 0.9693\n",
      "Epoch 8/10\n",
      "1875/1875 [==============================] - 2s 983us/step - loss: 0.0918 - accuracy: 0.9701\n",
      "Epoch 9/10\n",
      "1875/1875 [==============================] - 2s 985us/step - loss: 0.0857 - accuracy: 0.9719\n",
      "Epoch 10/10\n",
      "1875/1875 [==============================] - 2s 979us/step - loss: 0.0840 - accuracy: 0.9726\n"
     ]
    },
    {
     "data": {
      "text/plain": [
       "<keras.callbacks.History at 0x12ef6e191c0>"
      ]
     },
     "execution_count": 33,
     "metadata": {},
     "output_type": "execute_result"
    }
   ],
   "source": [
    "model.fit(x_train_rotate, y_train_rotate, epochs=10)\n",
    "#Train using rotate mnist dataset"
   ]
  },
  {
   "cell_type": "code",
   "execution_count": 34,
   "id": "0dcb7ba0",
   "metadata": {},
   "outputs": [
    {
     "name": "stdout",
     "output_type": "stream",
     "text": [
      "313/313 - 0s - loss: 0.1053 - accuracy: 0.9719 - 214ms/epoch - 684us/step\n"
     ]
    },
    {
     "data": {
      "text/plain": [
       "[0.10525811463594437, 0.9718999862670898]"
      ]
     },
     "execution_count": 34,
     "metadata": {},
     "output_type": "execute_result"
    }
   ],
   "source": [
    "model.evaluate(x_test_rotate,  y_test_rotate, verbose=2)\n",
    "#Evaluate on rotate mnist dataset after training"
   ]
  },
  {
   "cell_type": "code",
   "execution_count": 35,
   "id": "8b93efc3",
   "metadata": {},
   "outputs": [],
   "source": [
    "probability_model = tf.keras.Sequential([\n",
    "  model,\n",
    "  tf.keras.layers.Softmax()\n",
    "])"
   ]
  },
  {
   "cell_type": "code",
   "execution_count": 36,
   "id": "0f45684b",
   "metadata": {},
   "outputs": [
    {
     "data": {
      "text/plain": [
       "<tf.Tensor: shape=(5, 10), dtype=float32, numpy=\n",
       "array([[1.8960197e-15, 7.2429875e-11, 1.3476263e-05, 1.6555310e-07,\n",
       "        1.1792801e-21, 1.5580924e-11, 6.8282646e-25, 9.9998641e-01,\n",
       "        6.3062646e-14, 2.1092490e-15],\n",
       "       [3.2503693e-13, 1.5055165e-10, 9.9999952e-01, 4.8499010e-07,\n",
       "        5.5776018e-19, 1.6715847e-12, 9.1909798e-16, 8.2699494e-15,\n",
       "        5.1778365e-12, 5.7712106e-18],\n",
       "       [4.4958198e-14, 9.9998140e-01, 9.3195560e-08, 8.5401486e-10,\n",
       "        4.8819229e-06, 2.5495675e-10, 1.2143766e-09, 9.5454588e-08,\n",
       "        1.3517539e-05, 2.8806775e-12],\n",
       "       [9.9998558e-01, 2.8555238e-17, 3.3832166e-06, 1.3877364e-11,\n",
       "        3.8095468e-11, 1.2899266e-09, 1.0049650e-05, 1.9568683e-08,\n",
       "        2.9702451e-12, 9.9168312e-07],\n",
       "       [1.1217439e-12, 3.2097075e-10, 5.3316671e-07, 4.5901476e-07,\n",
       "        9.9620348e-01, 1.9544784e-08, 4.4476187e-10, 4.4409061e-04,\n",
       "        1.2844863e-06, 3.3501680e-03]], dtype=float32)>"
      ]
     },
     "execution_count": 36,
     "metadata": {},
     "output_type": "execute_result"
    }
   ],
   "source": [
    "probability_model(x_test[:5])"
   ]
  },
  {
   "cell_type": "code",
   "execution_count": 37,
   "id": "0cfd8aa0",
   "metadata": {},
   "outputs": [
    {
     "name": "stdout",
     "output_type": "stream",
     "text": [
      "(1, 28, 28)\n",
      "tf.Tensor(\n",
      "[[-56.449036  -10.154937  -30.815182    7.0342145 -47.600372    9.430392\n",
      "  -86.24702   -19.038977  -25.3706     -8.765216 ]], shape=(1, 10), dtype=float32)\n",
      "5\n"
     ]
    }
   ],
   "source": [
    "print(x_train[0:1].shape)\n",
    "pred = model(x_train[0:1], training=False)\n",
    "print(pred)\n",
    "print(np.argmax(pred[0]))\n",
    "#Testing the model on first x_train image"
   ]
  },
  {
   "cell_type": "code",
   "execution_count": 38,
   "id": "0b226690",
   "metadata": {},
   "outputs": [
    {
     "data": {
      "image/png": "[encoded data removed]",
      "text/plain": [
       "<Figure size 432x288 with 1 Axes>"
      ]
     },
     "metadata": {
      "needs_background": "light"
     },
     "output_type": "display_data"
    },
    {
     "name": "stdout",
     "output_type": "stream",
     "text": [
      "Guessed number: 5\n"
     ]
    },
    {
     "data": {
      "image/png": "[encoded data removed]",
      "text/plain": [
       "<Figure size 432x288 with 1 Axes>"
      ]
     },
     "metadata": {
      "needs_background": "light"
     },
     "output_type": "display_data"
    },
    {
     "name": "stdout",
     "output_type": "stream",
     "text": [
      "Guessed number: 0\n"
     ]
    },
    {
     "data": {
      "image/png": "[encoded data removed]",
      "text/plain": [
       "<Figure size 432x288 with 1 Axes>"
      ]
     },
     "metadata": {
      "needs_background": "light"
     },
     "output_type": "display_data"
    },
    {
     "name": "stdout",
     "output_type": "stream",
     "text": [
      "Guessed number: 4\n"
     ]
    },
    {
     "data": {
      "image/png": "[encoded data removed]",
      "text/plain": [
       "<Figure size 432x288 with 1 Axes>"
      ]
     },
     "metadata": {
      "needs_background": "light"
     },
     "output_type": "display_data"
    },
    {
     "name": "stdout",
     "output_type": "stream",
     "text": [
      "Guessed number: 1\n"
     ]
    },
    {
     "data": {
      "image/png": "[encoded data removed]",
      "text/plain": [
       "<Figure size 432x288 with 1 Axes>"
      ]
     },
     "metadata": {
      "needs_background": "light"
     },
     "output_type": "display_data"
    },
    {
     "name": "stdout",
     "output_type": "stream",
     "text": [
      "Guessed number: 9\n"
     ]
    },
    {
     "data": {
      "image/png": "[encoded data removed]",
      "text/plain": [
       "<Figure size 432x288 with 1 Axes>"
      ]
     },
     "metadata": {
      "needs_background": "light"
     },
     "output_type": "display_data"
    },
    {
     "name": "stdout",
     "output_type": "stream",
     "text": [
      "Guessed number: 2\n"
     ]
    },
    {
     "data": {
      "image/png": "[encoded data removed]",
      "text/plain": [
       "<Figure size 432x288 with 1 Axes>"
      ]
     },
     "metadata": {
      "needs_background": "light"
     },
     "output_type": "display_data"
    },
    {
     "name": "stdout",
     "output_type": "stream",
     "text": [
      "Guessed number: 1\n"
     ]
    },
    {
     "data": {
      "image/png": "[encoded data removed]",
      "text/plain": [
       "<Figure size 432x288 with 1 Axes>"
      ]
     },
     "metadata": {
      "needs_background": "light"
     },
     "output_type": "display_data"
    },
    {
     "name": "stdout",
     "output_type": "stream",
     "text": [
      "Guessed number: 3\n"
     ]
    },
    {
     "data": {
      "image/png": "[encoded data removed]",
      "text/plain": [
       "<Figure size 432x288 with 1 Axes>"
      ]
     },
     "metadata": {
      "needs_background": "light"
     },
     "output_type": "display_data"
    },
    {
     "name": "stdout",
     "output_type": "stream",
     "text": [
      "Guessed number: 1\n"
     ]
    },
    {
     "data": {
      "image/png": "[encoded data removed]",
      "text/plain": [
       "<Figure size 432x288 with 1 Axes>"
      ]
     },
     "metadata": {
      "needs_background": "light"
     },
     "output_type": "display_data"
    },
    {
     "name": "stdout",
     "output_type": "stream",
     "text": [
      "Guessed number: 4\n"
     ]
    },
    {
     "data": {
      "image/png": "[encoded data removed]",
      "text/plain": [
       "<Figure size 432x288 with 1 Axes>"
      ]
     },
     "metadata": {
      "needs_background": "light"
     },
     "output_type": "display_data"
    },
    {
     "name": "stdout",
     "output_type": "stream",
     "text": [
      "Guessed number: 3\n"
     ]
    },
    {
     "data": {
      "image/png": "[encoded data removed]",
      "text/plain": [
       "<Figure size 432x288 with 1 Axes>"
      ]
     },
     "metadata": {
      "needs_background": "light"
     },
     "output_type": "display_data"
    },
    {
     "name": "stdout",
     "output_type": "stream",
     "text": [
      "Guessed number: 5\n"
     ]
    },
    {
     "data": {
      "image/png": "[encoded data removed]",
      "text/plain": [
       "<Figure size 432x288 with 1 Axes>"
      ]
     },
     "metadata": {
      "needs_background": "light"
     },
     "output_type": "display_data"
    },
    {
     "name": "stdout",
     "output_type": "stream",
     "text": [
      "Guessed number: 3\n"
     ]
    },
    {
     "data": {
      "image/png": "[encoded data removed]",
      "text/plain": [
       "<Figure size 432x288 with 1 Axes>"
      ]
     },
     "metadata": {
      "needs_background": "light"
     },
     "output_type": "display_data"
    },
    {
     "name": "stdout",
     "output_type": "stream",
     "text": [
      "Guessed number: 6\n"
     ]
    },
    {
     "data": {
      "image/png": "[encoded data removed]",
      "text/plain": [
       "<Figure size 432x288 with 1 Axes>"
      ]
     },
     "metadata": {
      "needs_background": "light"
     },
     "output_type": "display_data"
    },
    {
     "name": "stdout",
     "output_type": "stream",
     "text": [
      "Guessed number: 1\n"
     ]
    },
    {
     "data": {
      "image/png": "[encoded data removed]",
      "text/plain": [
       "<Figure size 432x288 with 1 Axes>"
      ]
     },
     "metadata": {
      "needs_background": "light"
     },
     "output_type": "display_data"
    },
    {
     "name": "stdout",
     "output_type": "stream",
     "text": [
      "Guessed number: 7\n"
     ]
    },
    {
     "data": {
      "image/png": "[encoded data removed]",
      "text/plain": [
       "<Figure size 432x288 with 1 Axes>"
      ]
     },
     "metadata": {
      "needs_background": "light"
     },
     "output_type": "display_data"
    },
    {
     "name": "stdout",
     "output_type": "stream",
     "text": [
      "Guessed number: 2\n"
     ]
    },
    {
     "data": {
      "image/png": "[encoded data removed]",
      "text/plain": [
       "<Figure size 432x288 with 1 Axes>"
      ]
     },
     "metadata": {
      "needs_background": "light"
     },
     "output_type": "display_data"
    },
    {
     "name": "stdout",
     "output_type": "stream",
     "text": [
      "Guessed number: 8\n"
     ]
    },
    {
     "data": {
      "image/png": "[encoded data removed]",
      "text/plain": [
       "<Figure size 432x288 with 1 Axes>"
      ]
     },
     "metadata": {
      "needs_background": "light"
     },
     "output_type": "display_data"
    },
    {
     "name": "stdout",
     "output_type": "stream",
     "text": [
      "Guessed number: 6\n"
     ]
    },
    {
     "data": {
      "image/png": "[encoded data removed]",
      "text/plain": [
       "<Figure size 432x288 with 1 Axes>"
      ]
     },
     "metadata": {
      "needs_background": "light"
     },
     "output_type": "display_data"
    },
    {
     "name": "stdout",
     "output_type": "stream",
     "text": [
      "Guessed number: 9\n"
     ]
    }
   ],
   "source": [
    "#reference for what the drawn numbers should look like\n",
    "for x_train_i in range(20):\n",
    "    plt.imshow(x_train[x_train_i])\n",
    "    plt.show()\n",
    "    pred = model(x_train[[x_train_i]], training=False)\n",
    "    print('Guessed number: {}'.format(np.argmax(pred[0])))"
   ]
  },
  {
   "cell_type": "code",
   "execution_count": 39,
   "id": "e41faa6f",
   "metadata": {},
   "outputs": [
    {
     "name": "stdout",
     "output_type": "stream",
     "text": [
      "C:\\Users\\junha\\Documents\\python_things\\python_2021\\number_reader\\images\\hand_drawn.png\n"
     ]
    }
   ],
   "source": [
    "from PIL import ImageGrab\n",
    "\n",
    "#use to check path\n",
    "print(os.getcwd() + '\\images\\hand_drawn.png')\n",
    "import pathlib\n",
    "drawn_image_path = pathlib.Path(os.getcwd() + r'\\images\\hand_drawn\\user_drawing.png')\n",
    "\n",
    "def screenshot(widget):\n",
    "    x=root.winfo_rootx()+widget.winfo_x()\n",
    "    y=root.winfo_rooty()+widget.winfo_y()\n",
    "    x1=x+widget.winfo_width()\n",
    "    y1=y+widget.winfo_height()\n",
    "    ImageGrab.grab((x,y,x1,y1)).resize((28,28)).save(drawn_image_path, format='PNG')\n",
    "    "
   ]
  },
  {
   "cell_type": "code",
   "execution_count": 144,
   "id": "ccd21d8a",
   "metadata": {},
   "outputs": [],
   "source": [
    "from tkinter import *\n",
    "from tkinter import ttk\n",
    "\n",
    "class Sketchpad(Canvas):\n",
    "    def __init__(self, parent, **kwargs):\n",
    "        super().__init__(parent, **kwargs)\n",
    "        self.bind(\"<Button-1>\", self.add_oval)\n",
    "        self.bind(\"<B1-Motion>\", self.add_oval)\n",
    "\n",
    "    def add_oval(self, event):\n",
    "        radius = 15\n",
    "        self.create_oval(event.x-radius, event.y+radius, event.x+radius, event.y-radius, fill='black')\n",
    "\n",
    "    def clear(self):\n",
    "        self.delete('all')\n",
    "\n",
    "root = Tk()\n",
    "root.columnconfigure(0, weight=1)\n",
    "root.rowconfigure(0, weight=1)\n",
    "\n",
    "mainframe = ttk.Frame(root, width=1000, height=500)\n",
    "mainframe.grid(column=0, row=0, sticky=(N, W, E, S))\n",
    "\n",
    "sketch = Sketchpad(mainframe, width=500, height=500, bg='white', highlightthickness=0)\n",
    "sketch.grid(column=0, row=0, sticky='W')\n",
    "\n",
    "button_frame = ttk.Frame(mainframe, width=200, height=500, borderwidth=5, relief='raised')\n",
    "button_frame.grid(column=1, row=0, sticky='E')\n",
    "button_frame.grid_propagate(False)\n",
    "clear_button = ttk.Button(button_frame, text='Clear Drawing', command=sketch.clear)\n",
    "clear_button.grid(column=1, row=0, padx=20, pady=20)\n",
    "submit_button = ttk.Button(button_frame, text='Submit', command=lambda: screenshot(sketch))\n",
    "submit_button.grid(column=1, row=1, padx=20, pady=20)\n",
    "\n",
    "root.mainloop()"
   ]
  },
  {
   "cell_type": "code",
   "execution_count": 41,
   "id": "a650e3f0",
   "metadata": {},
   "outputs": [],
   "source": [
    "# import PIL\n",
    "# drawn_image = PIL.Image.open(drawn_image_path) \n",
    "# drawn_image.show()\n",
    "# print(drawn_image)\n",
    "# im.show()"
   ]
  },
  {
   "cell_type": "code",
   "execution_count": 143,
   "id": "b873eadd",
   "metadata": {},
   "outputs": [
    {
     "name": "stdout",
     "output_type": "stream",
     "text": [
      "Guessed number is 1 with 99.99816417694092% confidence\n"
     ]
    },
    {
     "data": {
      "image/png": "[encoded data removed]",
      "text/plain": [
       "<Figure size 432x288 with 1 Axes>"
      ]
     },
     "metadata": {
      "needs_background": "light"
     },
     "output_type": "display_data"
    }
   ],
   "source": [
    "import PIL\n",
    "\n",
    "drawn_image = tf.keras.utils.load_img(\n",
    "    drawn_image_path, target_size=(28, 28), color_mode='grayscale')\n",
    "drawn_image = PIL.ImageOps.invert(drawn_image)\n",
    "drawn_image = np.array(drawn_image) / 255.0\n",
    "\n",
    "drawn_img_array = tf.keras.utils.img_to_array(drawn_image)\n",
    "drawn_img_array = tf.expand_dims(drawn_img_array, 0)\n",
    "\n",
    "predictions = model(drawn_img_array, training=False)\n",
    "print('Guessed number is {} with {}% confidence'.format(np.argmax(predictions[0]), max(tf.nn.softmax(predictions).numpy()[0])*100))\n",
    "# print(tf.nn.softmax(predictions).numpy())\n",
    "\n",
    "plt.imshow(drawn_image, cmap=plt.cm.binary)\n",
    "plt.show()"
   ]
  },
  {
   "cell_type": "code",
   "execution_count": null,
   "id": "3d3baf32",
   "metadata": {},
   "outputs": [],
   "source": []
  },
  {
   "cell_type": "code",
   "execution_count": null,
   "id": "5c1ac5a0",
   "metadata": {},
   "outputs": [],
   "source": []
  }
 ],
 "metadata": {
  "kernelspec": {
   "display_name": "number_reader",
   "language": "python",
   "name": "number_reader"
  },
  "language_info": {
   "codemirror_mode": {
    "name": "ipython",
    "version": 3
   },
   "file_extension": ".py",
   "mimetype": "text/x-python",
   "name": "python",
   "nbconvert_exporter": "python",
   "pygments_lexer": "ipython3",
   "version": "3.9.8"
  }
 },
 "nbformat": 4,
 "nbformat_minor": 5
}
